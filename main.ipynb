{
 "cells": [
  {
   "cell_type": "code",
   "execution_count": 2,
   "metadata": {
    "collapsed": true,
    "ExecuteTime": {
     "end_time": "2023-12-23T12:32:22.168751100Z",
     "start_time": "2023-12-23T12:32:22.080764600Z"
    }
   },
   "outputs": [],
   "source": [
    "import random\n",
    "\n",
    "from BitFlipMutation import BitFlipMutation\n",
    "from GeneticAlgorithmSolver import GeneticAlgorithmSolver\n",
    "from KnapsackItem import KnapsackItem\n",
    "from KnapsackProblemSolver import KnapsackProblemSolver\n",
    "from SinglePointCrossover import SinglePointCrossover\n",
    "from TournamentSelection import TournamentSelection"
   ]
  },
  {
   "cell_type": "code",
   "execution_count": 3,
   "outputs": [],
   "source": [
    "max_weight = 50\n",
    "max_size = 30\n",
    "\n",
    "# items = [\n",
    "#     KnapsackItem(weight=55, size=0.03, value=11),\n",
    "#     KnapsackItem(weight=67, size=0.12, value=97),\n",
    "#     KnapsackItem(weight=87, size=0.34, value=34),\n",
    "#     KnapsackItem(weight=29, size=0.38, value=30),\n",
    "#     KnapsackItem(weight=67, size=0.21, value=47),\n",
    "#     KnapsackItem(weight=32, size=0.16, value=31),\n",
    "#     KnapsackItem(weight=7, size=0.25, value=12),\n",
    "#     KnapsackItem(weight=14, size=0.32, value=9),\n",
    "#     KnapsackItem(weight=52, size=0.86, value=98),\n",
    "#     KnapsackItem(weight=33, size=0.30, value=54),\n",
    "#     KnapsackItem(weight=72, size=0.72, value=59),\n",
    "#     KnapsackItem(weight=51, size=0.93, value=71),\n",
    "#     KnapsackItem(weight=94, size=1.1, value=43),\n",
    "#     KnapsackItem(weight=102, size=0.35, value=28),\n",
    "#     KnapsackItem(weight=21, size=0.58, value=56),\n",
    "#     KnapsackItem(weight=28, size=0.46, value=87),\n",
    "#     KnapsackItem(weight=8, size=0.15, value=21),\n",
    "#     KnapsackItem(weight=58, size=0.32, value=16),\n",
    "#     KnapsackItem(weight=9, size=0.29, value=30),\n",
    "#     KnapsackItem(weight=46, size=0.03, value=5),\n",
    "#     KnapsackItem(weight=23, size=0.01, value=11),\n",
    "#     KnapsackItem(weight=13, size=0.76, value=39),\n",
    "#     KnapsackItem(weight=19, size=0.54, value=75),\n",
    "#     KnapsackItem(weight=19, size=0.72, value=31),\n",
    "#     KnapsackItem(weight=70, size=0.26, value=19),\n",
    "#     KnapsackItem(weight=42, size=0.11, value=53),\n",
    "#     KnapsackItem(weight=60, size=0.30, value=70),\n",
    "#     KnapsackItem(weight=37, size=0.65, value=45),\n",
    "#     KnapsackItem(weight=22, size=0.43, value=69),\n",
    "# ]\n",
    "items = [\n",
    "    KnapsackItem(weight=10, size=5, value=20),\n",
    "    KnapsackItem(weight=15, size=10, value=30),\n",
    "    # Add more items as needed\n",
    "]"
   ],
   "metadata": {
    "collapsed": false,
    "ExecuteTime": {
     "end_time": "2023-12-23T12:33:04.948623400Z",
     "start_time": "2023-12-23T12:33:04.880640700Z"
    }
   }
  },
  {
   "cell_type": "code",
   "execution_count": 4,
   "outputs": [],
   "source": [
    "\n",
    "problem_solver = KnapsackProblemSolver(max_weight, max_size, items)\n",
    "\n",
    "selection_op = TournamentSelection()\n",
    "crossover_op = SinglePointCrossover()\n",
    "mutation_op = BitFlipMutation()\n",
    "\n",
    "genetic_solver = GeneticAlgorithmSolver(problem_solver, children_count=300,\n",
    "                                        selection_operator=selection_op,\n",
    "                                        crossover_operator=crossover_op,\n",
    "                                        mutation_operator=mutation_op)\n"
   ],
   "metadata": {
    "collapsed": false,
    "ExecuteTime": {
     "end_time": "2023-12-23T12:33:11.956749600Z",
     "start_time": "2023-12-23T12:33:11.861770300Z"
    }
   }
  },
  {
   "cell_type": "code",
   "execution_count": 5,
   "outputs": [],
   "source": [
    "# Initialize the population with your specified details\n",
    "population_size = 200\n",
    "gene_length = len(items)\n",
    "initial_population = [[random.choice([0, 1]) for _ in range(gene_length)] for _ in range(population_size)]\n"
   ],
   "metadata": {
    "collapsed": false,
    "ExecuteTime": {
     "end_time": "2023-12-23T12:33:23.022674600Z",
     "start_time": "2023-12-23T12:33:22.950864300Z"
    }
   }
  },
  {
   "cell_type": "code",
   "execution_count": 6,
   "outputs": [
    {
     "ename": "AttributeError",
     "evalue": "'int' object has no attribute 'weight'",
     "output_type": "error",
     "traceback": [
      "\u001B[1;31m---------------------------------------------------------------------------\u001B[0m",
      "\u001B[1;31mAttributeError\u001B[0m                            Traceback (most recent call last)",
      "Cell \u001B[1;32mIn[6], line 4\u001B[0m\n\u001B[0;32m      2\u001B[0m num_generations \u001B[38;5;241m=\u001B[39m \u001B[38;5;241m100\u001B[39m\n\u001B[0;32m      3\u001B[0m \u001B[38;5;28;01mfor\u001B[39;00m generation \u001B[38;5;129;01min\u001B[39;00m \u001B[38;5;28mrange\u001B[39m(num_generations):\n\u001B[1;32m----> 4\u001B[0m     initial_population \u001B[38;5;241m=\u001B[39m \u001B[43mgenetic_solver\u001B[49m\u001B[38;5;241;43m.\u001B[39;49m\u001B[43mevolve\u001B[49m\u001B[43m(\u001B[49m\u001B[43minitial_population\u001B[49m\u001B[43m)\u001B[49m\n",
      "File \u001B[1;32m~\\DataspellProjects\\Genetic algorithm for 0-1 Knapsack Problem\\GeneticAlgorithmSolver.py:14\u001B[0m, in \u001B[0;36mGeneticAlgorithmSolver.evolve\u001B[1;34m(self, population)\u001B[0m\n\u001B[0;32m     13\u001B[0m \u001B[38;5;28;01mdef\u001B[39;00m \u001B[38;5;21mevolve\u001B[39m(\u001B[38;5;28mself\u001B[39m, population):\n\u001B[1;32m---> 14\u001B[0m     fitness_scores \u001B[38;5;241m=\u001B[39m [\u001B[38;5;28mself\u001B[39m\u001B[38;5;241m.\u001B[39mproblem_solver\u001B[38;5;241m.\u001B[39mevaluate_fitness(ind) \u001B[38;5;28;01mfor\u001B[39;00m ind \u001B[38;5;129;01min\u001B[39;00m population]\n\u001B[0;32m     15\u001B[0m     selected_population \u001B[38;5;241m=\u001B[39m population \u001B[38;5;28;01mif\u001B[39;00m \u001B[38;5;28mself\u001B[39m\u001B[38;5;241m.\u001B[39mselection_operator \u001B[38;5;129;01mis\u001B[39;00m \u001B[38;5;28;01mNone\u001B[39;00m \u001B[38;5;28;01melse\u001B[39;00m \\\n\u001B[0;32m     16\u001B[0m         [population[i] \u001B[38;5;28;01mfor\u001B[39;00m i \u001B[38;5;129;01min\u001B[39;00m \u001B[38;5;28mself\u001B[39m\u001B[38;5;241m.\u001B[39mselection_operator\u001B[38;5;241m.\u001B[39mselect(population, fitness_scores)]\n\u001B[0;32m     18\u001B[0m     new_population \u001B[38;5;241m=\u001B[39m []\n",
      "File \u001B[1;32m~\\DataspellProjects\\Genetic algorithm for 0-1 Knapsack Problem\\GeneticAlgorithmSolver.py:14\u001B[0m, in \u001B[0;36m<listcomp>\u001B[1;34m(.0)\u001B[0m\n\u001B[0;32m     13\u001B[0m \u001B[38;5;28;01mdef\u001B[39;00m \u001B[38;5;21mevolve\u001B[39m(\u001B[38;5;28mself\u001B[39m, population):\n\u001B[1;32m---> 14\u001B[0m     fitness_scores \u001B[38;5;241m=\u001B[39m [\u001B[38;5;28;43mself\u001B[39;49m\u001B[38;5;241;43m.\u001B[39;49m\u001B[43mproblem_solver\u001B[49m\u001B[38;5;241;43m.\u001B[39;49m\u001B[43mevaluate_fitness\u001B[49m\u001B[43m(\u001B[49m\u001B[43mind\u001B[49m\u001B[43m)\u001B[49m \u001B[38;5;28;01mfor\u001B[39;00m ind \u001B[38;5;129;01min\u001B[39;00m population]\n\u001B[0;32m     15\u001B[0m     selected_population \u001B[38;5;241m=\u001B[39m population \u001B[38;5;28;01mif\u001B[39;00m \u001B[38;5;28mself\u001B[39m\u001B[38;5;241m.\u001B[39mselection_operator \u001B[38;5;129;01mis\u001B[39;00m \u001B[38;5;28;01mNone\u001B[39;00m \u001B[38;5;28;01melse\u001B[39;00m \\\n\u001B[0;32m     16\u001B[0m         [population[i] \u001B[38;5;28;01mfor\u001B[39;00m i \u001B[38;5;129;01min\u001B[39;00m \u001B[38;5;28mself\u001B[39m\u001B[38;5;241m.\u001B[39mselection_operator\u001B[38;5;241m.\u001B[39mselect(population, fitness_scores)]\n\u001B[0;32m     18\u001B[0m     new_population \u001B[38;5;241m=\u001B[39m []\n",
      "File \u001B[1;32m~\\DataspellProjects\\Genetic algorithm for 0-1 Knapsack Problem\\KnapsackProblemSolver.py:13\u001B[0m, in \u001B[0;36mKnapsackProblemSolver.evaluate_fitness\u001B[1;34m(self, solution)\u001B[0m\n\u001B[0;32m     12\u001B[0m \u001B[38;5;28;01mdef\u001B[39;00m \u001B[38;5;21mevaluate_fitness\u001B[39m(\u001B[38;5;28mself\u001B[39m, solution):\n\u001B[1;32m---> 13\u001B[0m     \u001B[38;5;28;01mif\u001B[39;00m \u001B[38;5;129;01mnot\u001B[39;00m \u001B[38;5;28;43mself\u001B[39;49m\u001B[38;5;241;43m.\u001B[39;49m\u001B[43mis_valid_solution\u001B[49m\u001B[43m(\u001B[49m\u001B[43msolution\u001B[49m\u001B[43m)\u001B[49m:\n\u001B[0;32m     14\u001B[0m         \u001B[38;5;28;01mreturn\u001B[39;00m \u001B[38;5;241m0\u001B[39m  \u001B[38;5;66;03m# Penalize invalid solutions\u001B[39;00m\n\u001B[0;32m     16\u001B[0m     \u001B[38;5;66;03m# Fitness evaluation based on knapsack constraints and item values\u001B[39;00m\n",
      "File \u001B[1;32m~\\DataspellProjects\\Genetic algorithm for 0-1 Knapsack Problem\\KnapsackProblemSolver.py:8\u001B[0m, in \u001B[0;36mKnapsackProblemSolver.is_valid_solution\u001B[1;34m(self, solution)\u001B[0m\n\u001B[0;32m      7\u001B[0m \u001B[38;5;28;01mdef\u001B[39;00m \u001B[38;5;21mis_valid_solution\u001B[39m(\u001B[38;5;28mself\u001B[39m, solution):\n\u001B[1;32m----> 8\u001B[0m     total_weight \u001B[38;5;241m=\u001B[39m \u001B[38;5;28;43msum\u001B[39;49m\u001B[43m(\u001B[49m\u001B[43mitem\u001B[49m\u001B[38;5;241;43m.\u001B[39;49m\u001B[43mweight\u001B[49m\u001B[43m \u001B[49m\u001B[38;5;28;43;01mfor\u001B[39;49;00m\u001B[43m \u001B[49m\u001B[43mitem\u001B[49m\u001B[43m \u001B[49m\u001B[38;5;129;43;01min\u001B[39;49;00m\u001B[43m \u001B[49m\u001B[43msolution\u001B[49m\u001B[43m)\u001B[49m\n\u001B[0;32m      9\u001B[0m     total_size \u001B[38;5;241m=\u001B[39m \u001B[38;5;28msum\u001B[39m(item\u001B[38;5;241m.\u001B[39msize \u001B[38;5;28;01mfor\u001B[39;00m item \u001B[38;5;129;01min\u001B[39;00m solution)\n\u001B[0;32m     10\u001B[0m     \u001B[38;5;28;01mreturn\u001B[39;00m total_weight \u001B[38;5;241m<\u001B[39m\u001B[38;5;241m=\u001B[39m \u001B[38;5;28mself\u001B[39m\u001B[38;5;241m.\u001B[39mmax_weight \u001B[38;5;129;01mand\u001B[39;00m total_size \u001B[38;5;241m<\u001B[39m\u001B[38;5;241m=\u001B[39m \u001B[38;5;28mself\u001B[39m\u001B[38;5;241m.\u001B[39mmax_size\n",
      "File \u001B[1;32m~\\DataspellProjects\\Genetic algorithm for 0-1 Knapsack Problem\\KnapsackProblemSolver.py:8\u001B[0m, in \u001B[0;36m<genexpr>\u001B[1;34m(.0)\u001B[0m\n\u001B[0;32m      7\u001B[0m \u001B[38;5;28;01mdef\u001B[39;00m \u001B[38;5;21mis_valid_solution\u001B[39m(\u001B[38;5;28mself\u001B[39m, solution):\n\u001B[1;32m----> 8\u001B[0m     total_weight \u001B[38;5;241m=\u001B[39m \u001B[38;5;28msum\u001B[39m(\u001B[43mitem\u001B[49m\u001B[38;5;241;43m.\u001B[39;49m\u001B[43mweight\u001B[49m \u001B[38;5;28;01mfor\u001B[39;00m item \u001B[38;5;129;01min\u001B[39;00m solution)\n\u001B[0;32m      9\u001B[0m     total_size \u001B[38;5;241m=\u001B[39m \u001B[38;5;28msum\u001B[39m(item\u001B[38;5;241m.\u001B[39msize \u001B[38;5;28;01mfor\u001B[39;00m item \u001B[38;5;129;01min\u001B[39;00m solution)\n\u001B[0;32m     10\u001B[0m     \u001B[38;5;28;01mreturn\u001B[39;00m total_weight \u001B[38;5;241m<\u001B[39m\u001B[38;5;241m=\u001B[39m \u001B[38;5;28mself\u001B[39m\u001B[38;5;241m.\u001B[39mmax_weight \u001B[38;5;129;01mand\u001B[39;00m total_size \u001B[38;5;241m<\u001B[39m\u001B[38;5;241m=\u001B[39m \u001B[38;5;28mself\u001B[39m\u001B[38;5;241m.\u001B[39mmax_size\n",
      "\u001B[1;31mAttributeError\u001B[0m: 'int' object has no attribute 'weight'"
     ]
    }
   ],
   "source": [
    "\n",
    "# Evolve the population\n",
    "num_generations = 100\n",
    "for generation in range(num_generations):\n",
    "    initial_population = genetic_solver.evolve(initial_population)\n"
   ],
   "metadata": {
    "collapsed": false,
    "ExecuteTime": {
     "end_time": "2023-12-23T12:33:30.924660600Z",
     "start_time": "2023-12-23T12:33:28.483170100Z"
    }
   }
  },
  {
   "cell_type": "code",
   "execution_count": 7,
   "outputs": [
    {
     "ename": "AttributeError",
     "evalue": "'int' object has no attribute 'weight'",
     "output_type": "error",
     "traceback": [
      "\u001B[1;31m---------------------------------------------------------------------------\u001B[0m",
      "\u001B[1;31mAttributeError\u001B[0m                            Traceback (most recent call last)",
      "Cell \u001B[1;32mIn[7], line 2\u001B[0m\n\u001B[0;32m      1\u001B[0m \u001B[38;5;66;03m# Find the best solution in the final population\u001B[39;00m\n\u001B[1;32m----> 2\u001B[0m best_solution \u001B[38;5;241m=\u001B[39m \u001B[38;5;28;43mmax\u001B[39;49m\u001B[43m(\u001B[49m\u001B[43minitial_population\u001B[49m\u001B[43m,\u001B[49m\u001B[43m \u001B[49m\u001B[43mkey\u001B[49m\u001B[38;5;241;43m=\u001B[39;49m\u001B[38;5;28;43;01mlambda\u001B[39;49;00m\u001B[43m \u001B[49m\u001B[43mind\u001B[49m\u001B[43m:\u001B[49m\u001B[43m \u001B[49m\u001B[43mproblem_solver\u001B[49m\u001B[38;5;241;43m.\u001B[39;49m\u001B[43mevaluate_fitness\u001B[49m\u001B[43m(\u001B[49m\u001B[43mind\u001B[49m\u001B[43m)\u001B[49m\u001B[43m)\u001B[49m\n",
      "Cell \u001B[1;32mIn[7], line 2\u001B[0m, in \u001B[0;36m<lambda>\u001B[1;34m(ind)\u001B[0m\n\u001B[0;32m      1\u001B[0m \u001B[38;5;66;03m# Find the best solution in the final population\u001B[39;00m\n\u001B[1;32m----> 2\u001B[0m best_solution \u001B[38;5;241m=\u001B[39m \u001B[38;5;28mmax\u001B[39m(initial_population, key\u001B[38;5;241m=\u001B[39m\u001B[38;5;28;01mlambda\u001B[39;00m ind: \u001B[43mproblem_solver\u001B[49m\u001B[38;5;241;43m.\u001B[39;49m\u001B[43mevaluate_fitness\u001B[49m\u001B[43m(\u001B[49m\u001B[43mind\u001B[49m\u001B[43m)\u001B[49m)\n",
      "File \u001B[1;32m~\\DataspellProjects\\Genetic algorithm for 0-1 Knapsack Problem\\KnapsackProblemSolver.py:13\u001B[0m, in \u001B[0;36mKnapsackProblemSolver.evaluate_fitness\u001B[1;34m(self, solution)\u001B[0m\n\u001B[0;32m     12\u001B[0m \u001B[38;5;28;01mdef\u001B[39;00m \u001B[38;5;21mevaluate_fitness\u001B[39m(\u001B[38;5;28mself\u001B[39m, solution):\n\u001B[1;32m---> 13\u001B[0m     \u001B[38;5;28;01mif\u001B[39;00m \u001B[38;5;129;01mnot\u001B[39;00m \u001B[38;5;28;43mself\u001B[39;49m\u001B[38;5;241;43m.\u001B[39;49m\u001B[43mis_valid_solution\u001B[49m\u001B[43m(\u001B[49m\u001B[43msolution\u001B[49m\u001B[43m)\u001B[49m:\n\u001B[0;32m     14\u001B[0m         \u001B[38;5;28;01mreturn\u001B[39;00m \u001B[38;5;241m0\u001B[39m  \u001B[38;5;66;03m# Penalize invalid solutions\u001B[39;00m\n\u001B[0;32m     16\u001B[0m     \u001B[38;5;66;03m# Fitness evaluation based on knapsack constraints and item values\u001B[39;00m\n",
      "File \u001B[1;32m~\\DataspellProjects\\Genetic algorithm for 0-1 Knapsack Problem\\KnapsackProblemSolver.py:8\u001B[0m, in \u001B[0;36mKnapsackProblemSolver.is_valid_solution\u001B[1;34m(self, solution)\u001B[0m\n\u001B[0;32m      7\u001B[0m \u001B[38;5;28;01mdef\u001B[39;00m \u001B[38;5;21mis_valid_solution\u001B[39m(\u001B[38;5;28mself\u001B[39m, solution):\n\u001B[1;32m----> 8\u001B[0m     total_weight \u001B[38;5;241m=\u001B[39m \u001B[38;5;28;43msum\u001B[39;49m\u001B[43m(\u001B[49m\u001B[43mitem\u001B[49m\u001B[38;5;241;43m.\u001B[39;49m\u001B[43mweight\u001B[49m\u001B[43m \u001B[49m\u001B[38;5;28;43;01mfor\u001B[39;49;00m\u001B[43m \u001B[49m\u001B[43mitem\u001B[49m\u001B[43m \u001B[49m\u001B[38;5;129;43;01min\u001B[39;49;00m\u001B[43m \u001B[49m\u001B[43msolution\u001B[49m\u001B[43m)\u001B[49m\n\u001B[0;32m      9\u001B[0m     total_size \u001B[38;5;241m=\u001B[39m \u001B[38;5;28msum\u001B[39m(item\u001B[38;5;241m.\u001B[39msize \u001B[38;5;28;01mfor\u001B[39;00m item \u001B[38;5;129;01min\u001B[39;00m solution)\n\u001B[0;32m     10\u001B[0m     \u001B[38;5;28;01mreturn\u001B[39;00m total_weight \u001B[38;5;241m<\u001B[39m\u001B[38;5;241m=\u001B[39m \u001B[38;5;28mself\u001B[39m\u001B[38;5;241m.\u001B[39mmax_weight \u001B[38;5;129;01mand\u001B[39;00m total_size \u001B[38;5;241m<\u001B[39m\u001B[38;5;241m=\u001B[39m \u001B[38;5;28mself\u001B[39m\u001B[38;5;241m.\u001B[39mmax_size\n",
      "File \u001B[1;32m~\\DataspellProjects\\Genetic algorithm for 0-1 Knapsack Problem\\KnapsackProblemSolver.py:8\u001B[0m, in \u001B[0;36m<genexpr>\u001B[1;34m(.0)\u001B[0m\n\u001B[0;32m      7\u001B[0m \u001B[38;5;28;01mdef\u001B[39;00m \u001B[38;5;21mis_valid_solution\u001B[39m(\u001B[38;5;28mself\u001B[39m, solution):\n\u001B[1;32m----> 8\u001B[0m     total_weight \u001B[38;5;241m=\u001B[39m \u001B[38;5;28msum\u001B[39m(\u001B[43mitem\u001B[49m\u001B[38;5;241;43m.\u001B[39;49m\u001B[43mweight\u001B[49m \u001B[38;5;28;01mfor\u001B[39;00m item \u001B[38;5;129;01min\u001B[39;00m solution)\n\u001B[0;32m      9\u001B[0m     total_size \u001B[38;5;241m=\u001B[39m \u001B[38;5;28msum\u001B[39m(item\u001B[38;5;241m.\u001B[39msize \u001B[38;5;28;01mfor\u001B[39;00m item \u001B[38;5;129;01min\u001B[39;00m solution)\n\u001B[0;32m     10\u001B[0m     \u001B[38;5;28;01mreturn\u001B[39;00m total_weight \u001B[38;5;241m<\u001B[39m\u001B[38;5;241m=\u001B[39m \u001B[38;5;28mself\u001B[39m\u001B[38;5;241m.\u001B[39mmax_weight \u001B[38;5;129;01mand\u001B[39;00m total_size \u001B[38;5;241m<\u001B[39m\u001B[38;5;241m=\u001B[39m \u001B[38;5;28mself\u001B[39m\u001B[38;5;241m.\u001B[39mmax_size\n",
      "\u001B[1;31mAttributeError\u001B[0m: 'int' object has no attribute 'weight'"
     ]
    }
   ],
   "source": [
    "\n",
    "# Find the best solution in the final population\n",
    "best_solution = max(initial_population, key=lambda ind: problem_solver.evaluate_fitness(ind))\n"
   ],
   "metadata": {
    "collapsed": false,
    "ExecuteTime": {
     "end_time": "2023-12-23T12:33:34.469431300Z",
     "start_time": "2023-12-23T12:33:34.187191600Z"
    }
   }
  },
  {
   "cell_type": "code",
   "execution_count": 8,
   "outputs": [
    {
     "ename": "NameError",
     "evalue": "name 'best_solution' is not defined",
     "output_type": "error",
     "traceback": [
      "\u001B[1;31m---------------------------------------------------------------------------\u001B[0m",
      "\u001B[1;31mNameError\u001B[0m                                 Traceback (most recent call last)",
      "Cell \u001B[1;32mIn[8], line 1\u001B[0m\n\u001B[1;32m----> 1\u001B[0m \u001B[38;5;28mprint\u001B[39m(\u001B[38;5;124m\"\u001B[39m\u001B[38;5;124mBest Solution:\u001B[39m\u001B[38;5;124m\"\u001B[39m, \u001B[43mbest_solution\u001B[49m)\n\u001B[0;32m      2\u001B[0m \u001B[38;5;28mprint\u001B[39m(\u001B[38;5;124m\"\u001B[39m\u001B[38;5;124mTotal Value:\u001B[39m\u001B[38;5;124m\"\u001B[39m, problem_solver\u001B[38;5;241m.\u001B[39mevaluate_fitness(best_solution))\n\u001B[0;32m      3\u001B[0m \u001B[38;5;28mprint\u001B[39m(\u001B[38;5;124m\"\u001B[39m\u001B[38;5;124mValid Solution:\u001B[39m\u001B[38;5;124m\"\u001B[39m, problem_solver\u001B[38;5;241m.\u001B[39mis_valid_solution(best_solution))\n",
      "\u001B[1;31mNameError\u001B[0m: name 'best_solution' is not defined"
     ]
    }
   ],
   "source": [
    "\n",
    "print(\"Best Solution:\", best_solution)\n",
    "print(\"Total Value:\", problem_solver.evaluate_fitness(best_solution))\n",
    "print(\"Valid Solution:\", problem_solver.is_valid_solution(best_solution))"
   ],
   "metadata": {
    "collapsed": false,
    "ExecuteTime": {
     "end_time": "2023-12-23T12:33:37.344315500Z",
     "start_time": "2023-12-23T12:33:37.262320100Z"
    }
   }
  },
  {
   "cell_type": "code",
   "execution_count": null,
   "outputs": [],
   "source": [],
   "metadata": {
    "collapsed": false
   }
  }
 ],
 "metadata": {
  "kernelspec": {
   "display_name": "Python 3",
   "language": "python",
   "name": "python3"
  },
  "language_info": {
   "codemirror_mode": {
    "name": "ipython",
    "version": 2
   },
   "file_extension": ".py",
   "mimetype": "text/x-python",
   "name": "python",
   "nbconvert_exporter": "python",
   "pygments_lexer": "ipython2",
   "version": "2.7.6"
  }
 },
 "nbformat": 4,
 "nbformat_minor": 0
}
