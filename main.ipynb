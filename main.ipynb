{
 "cells": [
  {
   "cell_type": "code",
   "execution_count": 1,
   "metadata": {
    "collapsed": true,
    "ExecuteTime": {
     "end_time": "2023-12-31T12:52:19.015304100Z",
     "start_time": "2023-12-31T12:52:18.991261200Z"
    }
   },
   "outputs": [],
   "source": [
    "import random\n",
    "\n",
    "from BitFlipMutation import BitFlipMutation\n",
    "from GeneticAlgorithmSolver import GeneticAlgorithmSolver\n",
    "from KnapsackItem import KnapsackItem\n",
    "from KnapsackProblemSolver import KnapsackProblemSolver\n",
    "from SinglePointCrossover import SinglePointCrossover\n",
    "from TournamentSelection import TournamentSelection"
   ]
  },
  {
   "cell_type": "code",
   "execution_count": 2,
   "outputs": [],
   "source": [
    "max_weight = 220\n",
    "max_size = 2\n",
    "population_size = 200\n",
    "num_generations = 10\n",
    "children_in_every_generation = 300\n",
    "\n",
    "\n",
    "items = [\n",
    "    KnapsackItem(weight=55, size=0.03, value=11),\n",
    "    KnapsackItem(weight=67, size=0.12, value=97),\n",
    "    KnapsackItem(weight=87, size=0.34, value=34),\n",
    "    KnapsackItem(weight=29, size=0.38, value=30),\n",
    "    KnapsackItem(weight=67, size=0.21, value=47),\n",
    "    KnapsackItem(weight=32, size=0.16, value=31),\n",
    "    KnapsackItem(weight=7, size=0.25, value=12),\n",
    "    KnapsackItem(weight=14, size=0.32, value=9),\n",
    "    KnapsackItem(weight=52, size=0.86, value=98),\n",
    "    KnapsackItem(weight=33, size=0.30, value=54),\n",
    "    KnapsackItem(weight=72, size=0.72, value=59),\n",
    "    KnapsackItem(weight=51, size=0.93, value=71),\n",
    "    KnapsackItem(weight=94, size=1.1, value=43),\n",
    "    KnapsackItem(weight=102, size=0.35, value=28),\n",
    "    KnapsackItem(weight=21, size=0.58, value=56),\n",
    "    KnapsackItem(weight=28, size=0.46, value=87),\n",
    "    KnapsackItem(weight=8, size=0.15, value=21),\n",
    "    KnapsackItem(weight=58, size=0.32, value=16),\n",
    "    KnapsackItem(weight=9, size=0.29, value=30),\n",
    "    KnapsackItem(weight=46, size=0.03, value=5),\n",
    "    KnapsackItem(weight=23, size=0.01, value=11),\n",
    "    KnapsackItem(weight=13, size=0.76, value=39),\n",
    "    KnapsackItem(weight=19, size=0.54, value=75),\n",
    "    KnapsackItem(weight=19, size=0.72, value=31),\n",
    "    KnapsackItem(weight=70, size=0.26, value=19),\n",
    "    KnapsackItem(weight=42, size=0.11, value=53),\n",
    "    KnapsackItem(weight=60, size=0.30, value=70),\n",
    "    KnapsackItem(weight=37, size=0.65, value=45),\n",
    "    KnapsackItem(weight=22, size=0.43, value=69),\n",
    "]"
   ],
   "metadata": {
    "collapsed": false,
    "ExecuteTime": {
     "end_time": "2023-12-31T12:52:19.036348900Z",
     "start_time": "2023-12-31T12:52:19.016460100Z"
    }
   }
  },
  {
   "cell_type": "code",
   "execution_count": 3,
   "outputs": [],
   "source": [
    "problem_solver = KnapsackProblemSolver(max_weight, max_size, items)\n",
    "\n",
    "selection_op = TournamentSelection()\n",
    "crossover_op = SinglePointCrossover()\n",
    "mutation_op = BitFlipMutation()\n",
    "\n",
    "genetic_solver = GeneticAlgorithmSolver(problem_solver,\n",
    "                                        selection_operator=selection_op,\n",
    "                                        crossover_operator=crossover_op,\n",
    "                                        mutation_operator=mutation_op)"
   ],
   "metadata": {
    "collapsed": false,
    "ExecuteTime": {
     "end_time": "2023-12-31T12:52:19.058841800Z",
     "start_time": "2023-12-31T12:52:19.039349700Z"
    }
   }
  },
  {
   "cell_type": "code",
   "execution_count": 4,
   "outputs": [
    {
     "data": {
      "text/plain": "200"
     },
     "execution_count": 4,
     "metadata": {},
     "output_type": "execute_result"
    }
   ],
   "source": [
    "# Initialize the population\n",
    "gene_length = len(items)\n",
    "initial_population = []\n",
    "\n",
    "while len(initial_population) < population_size:\n",
    "    solution = [random.choice([0, 1]) for _ in range(gene_length)]\n",
    "    if problem_solver.is_valid_solution(solution):\n",
    "        initial_population.append(solution)\n",
    "\n",
    "len(initial_population)"
   ],
   "metadata": {
    "collapsed": false,
    "ExecuteTime": {
     "end_time": "2023-12-31T12:52:56.773312300Z",
     "start_time": "2023-12-31T12:52:19.157828Z"
    }
   }
  },
  {
   "cell_type": "code",
   "execution_count": 5,
   "outputs": [
    {
     "data": {
      "text/plain": "3200"
     },
     "execution_count": 5,
     "metadata": {},
     "output_type": "execute_result"
    }
   ],
   "source": [
    "# Evolve the population\n",
    "for generation in range(num_generations):\n",
    "    initial_population += genetic_solver.evolve(initial_population, children_in_every_generation)\n",
    "len(initial_population)"
   ],
   "metadata": {
    "collapsed": false,
    "ExecuteTime": {
     "end_time": "2023-12-31T12:52:56.976315100Z",
     "start_time": "2023-12-31T12:52:56.818313800Z"
    }
   }
  },
  {
   "cell_type": "code",
   "execution_count": 6,
   "outputs": [],
   "source": [
    "# Find the best solution in the final population\n",
    "best_solution = max(initial_population, key=lambda ind: problem_solver.evaluate_fitness(ind))\n",
    "\n",
    "solution_items = zip(items, best_solution)\n",
    "\n",
    "total_weight = 0\n",
    "total_size   = 0\n",
    "for item, gene in solution_items:\n",
    "    if gene == 1 :\n",
    "        total_weight += item.weight\n",
    "        total_size   += item.size"
   ],
   "metadata": {
    "collapsed": false,
    "ExecuteTime": {
     "end_time": "2023-12-31T12:52:57.022313600Z",
     "start_time": "2023-12-31T12:52:56.976315100Z"
    }
   }
  },
  {
   "cell_type": "code",
   "execution_count": 7,
   "outputs": [
    {
     "name": "stdout",
     "output_type": "stream",
     "text": [
      "Best Solution: [0, 1, 0, 0, 0, 0, 1, 0, 0, 1, 0, 0, 0, 0, 0, 1, 0, 0, 0, 0, 1, 0, 1, 0, 0, 1, 0, 0, 0]\n",
      "Total Value: 389\n",
      "Total Weight: 219  <=  220\n",
      "Total Size: 1.79  <=  2\n",
      "Valid Solution: True\n"
     ]
    }
   ],
   "source": [
    "\n",
    "print(\"Best Solution:\", best_solution)\n",
    "print(\"Total Value:\", problem_solver.evaluate_fitness(best_solution))\n",
    "print(\"Total Weight:\", total_weight, \" <= \", max_weight)\n",
    "print(\"Total Size:\", total_size, \" <= \", max_size)\n",
    "print(\"Valid Solution:\", problem_solver.is_valid_solution(best_solution))"
   ],
   "metadata": {
    "collapsed": false,
    "ExecuteTime": {
     "end_time": "2023-12-31T12:52:57.037324400Z",
     "start_time": "2023-12-31T12:52:57.027313700Z"
    }
   }
  },
  {
   "cell_type": "code",
   "execution_count": 7,
   "outputs": [],
   "source": [],
   "metadata": {
    "collapsed": false,
    "ExecuteTime": {
     "end_time": "2023-12-31T12:52:57.079312Z",
     "start_time": "2023-12-31T12:52:57.038319300Z"
    }
   }
  }
 ],
 "metadata": {
  "kernelspec": {
   "display_name": "Python 3",
   "language": "python",
   "name": "python3"
  },
  "language_info": {
   "codemirror_mode": {
    "name": "ipython",
    "version": 2
   },
   "file_extension": ".py",
   "mimetype": "text/x-python",
   "name": "python",
   "nbconvert_exporter": "python",
   "pygments_lexer": "ipython2",
   "version": "2.7.6"
  }
 },
 "nbformat": 4,
 "nbformat_minor": 0
}
